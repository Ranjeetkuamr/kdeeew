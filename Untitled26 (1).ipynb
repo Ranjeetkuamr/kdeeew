{
 "cells": [
  {
   "cell_type": "markdown",
   "id": "787e0dd6",
   "metadata": {},
   "source": [
    "# Q1. Explain why we have to use the Exception class while creating a Custom Exception."
   ]
  },
  {
   "cell_type": "code",
   "execution_count": null,
   "id": "b07dfcd6",
   "metadata": {},
   "outputs": [],
   "source": [
    "The Exception class is the base class for all exceptions in Python.\n",
    "This means that any custom exception that we create must inherit from the Exception class."
   ]
  },
  {
   "cell_type": "code",
   "execution_count": null,
   "id": "b72a093f",
   "metadata": {},
   "outputs": [],
   "source": [
    "class MyException(Exception):\n",
    "    \"\"\"A custom exception.\"\"\"\n",
    "\n",
    "    def __init__(self, message):\n",
    "        super().__init__(message)\n",
    "\n",
    "        self.message = message\n",
    "\n",
    "\n",
    "def factorial(x):\n",
    "    if not isinstance(x, int):\n",
    "        raise MyException(\"x must be an integer\")\n",
    "\n",
    "    if x < 0:\n",
    "        raise MyException(\"x must be non-negative\")\n",
    "\n",
    "    result = 1\n",
    "    for i in range(1, x + 1):\n",
    "        result *= i\n",
    "\n",
    "    return result\n",
    "\n",
    "\n",
    "try:\n",
    "    print(factorial(input(\"Enter a number: \")))\n",
    "except MyException as e:\n",
    "    print(\"Error: {}.\".format(e.message))\n"
   ]
  },
  {
   "cell_type": "markdown",
   "id": "8cbd7b71",
   "metadata": {},
   "source": [
    "# Q2. Write a python program to print Python Exception Hierarchy."
   ]
  },
  {
   "cell_type": "code",
   "execution_count": null,
   "id": "7b0d65d7",
   "metadata": {},
   "outputs": [],
   "source": [
    "def print_exception_hierarchy(exception_class, indent=0):\n",
    "    print(' ' * indent + exception_class.__name__)\n",
    "    for subclass in exception_class.__subclasses__():\n",
    "        print_exception_hierarchy(subclass, indent + 4)\n",
    "\n",
    "print_exception_hierarchy(Exception)\n"
   ]
  },
  {
   "cell_type": "markdown",
   "id": "c71eef7d",
   "metadata": {},
   "source": [
    "# Q3. What errors are defined in the ArithmeticError class? Explain any two with an example."
   ]
  },
  {
   "cell_type": "code",
   "execution_count": null,
   "id": "dde3dfff",
   "metadata": {},
   "outputs": [],
   "source": [
    "The ArithmeticError class is a base class for exceptions that occur during arithmetic operations in Python.\n",
    "It serves as the parent class for various specific arithmetic-related exception classes. "
   ]
  },
  {
   "cell_type": "code",
   "execution_count": null,
   "id": "2faee1ac",
   "metadata": {},
   "outputs": [],
   "source": [
    "try:\n",
    "    result = 10 / 0\n",
    "except ZeroDivisionError as e:\n",
    "    print(\"Error:\", e)\n"
   ]
  },
  {
   "cell_type": "code",
   "execution_count": null,
   "id": "f19ba250",
   "metadata": {},
   "outputs": [],
   "source": [
    "try:\n",
    "    result = 2 ** 1000  # Exponential calculation\n",
    "except OverflowError as e:\n",
    "    print(\"Error:\", e)\n"
   ]
  },
  {
   "cell_type": "markdown",
   "id": "c94c9abb",
   "metadata": {},
   "source": [
    "# Q4. Why LookupError class is used? Explain with an example KeyError and IndexError."
   ]
  },
  {
   "cell_type": "code",
   "execution_count": null,
   "id": "ae113fb9",
   "metadata": {},
   "outputs": [],
   "source": [
    "The LookupError class is used in Python to represent errors that occur when a key or index is not found in a sequence or mapping. \n",
    "It is a base class for two other exceptions, KeyError and IndexError."
   ]
  },
  {
   "cell_type": "code",
   "execution_count": null,
   "id": "48571a12",
   "metadata": {},
   "outputs": [],
   "source": [
    ". KeyError is raised when a key is not found in a dictionary. For example, the following code will raise a KeyError exception:"
   ]
  },
  {
   "cell_type": "code",
   "execution_count": null,
   "id": "519175c1",
   "metadata": {},
   "outputs": [],
   "source": [
    "fruits = {\"apple\": \"red\", \"banana\": \"yellow\", \"orange\": \"orange\"}\n",
    "\n",
    "try:\n",
    "    color = fruits[\"grape\"]  \n",
    "except KeyError:\n",
    "    print(\"KeyError: The key does not exist in the dictionary.\")"
   ]
  },
  {
   "cell_type": "code",
   "execution_count": null,
   "id": "e249c87e",
   "metadata": {},
   "outputs": [],
   "source": [
    "IndexError is raised when an index is not found in a sequence. For example, the following code will raise an IndexError exception:"
   ]
  },
  {
   "cell_type": "code",
   "execution_count": null,
   "id": "1e39c5f4",
   "metadata": {},
   "outputs": [],
   "source": [
    "numbers = [1, 2, 3, 4, 5]\n",
    "\n",
    "try:\n",
    "    value = numbers[10]  \n",
    "except IndexError:\n",
    "    print(\"IndexError: The index is out of range.\")\n"
   ]
  },
  {
   "cell_type": "markdown",
   "id": "0d2d885c",
   "metadata": {},
   "source": [
    "# Q5. Explain ImportError. What is ModuleNotFoundError?"
   ]
  },
  {
   "cell_type": "code",
   "execution_count": null,
   "id": "e430e931",
   "metadata": {},
   "outputs": [],
   "source": [
    "1.ImportError: This exception is raised when an imported module cannot be found or loaded. "
   ]
  },
  {
   "cell_type": "code",
   "execution_count": null,
   "id": "4fb8f6d7",
   "metadata": {},
   "outputs": [],
   "source": [
    "try:\n",
    "    import my_module  \n",
    "except ImportError:\n",
    "    print(\"ImportError: The module could not be imported.\")\n"
   ]
  },
  {
   "cell_type": "code",
   "execution_count": null,
   "id": "2dff334c",
   "metadata": {},
   "outputs": [],
   "source": [
    "2.ModuleNotFoundError: This exception is a subclass of ImportError and specifically occurs when a module is not found during import."
   ]
  },
  {
   "cell_type": "code",
   "execution_count": null,
   "id": "7dda6a34",
   "metadata": {},
   "outputs": [],
   "source": [
    "try:\n",
    "    import non_existing_module\n",
    "except ModuleNotFoundError:\n",
    "    print(\"ModuleNotFoundError: The module could not be found.\")\n"
   ]
  },
  {
   "cell_type": "markdown",
   "id": "c804dab0",
   "metadata": {},
   "source": [
    "# Q6. List down some best practices for exception handling in python."
   ]
  },
  {
   "cell_type": "code",
   "execution_count": null,
   "id": "46b550a5",
   "metadata": {},
   "outputs": [],
   "source": [
    " here are some best practices for exception handling in Python:\n",
    "\n",
    ". Use try/except blocks to handle exceptions gracefully. This will help you prevent your code from crashing and will allow you to provide helpful error messages to the user.\n",
    ". Catch specific exceptions rather than using a catch-all except block. This will help you identify and fix the specific errors that are occurring in your code.\n",
    ". Log exceptions so that you can track them down later. This will help you identify the source of the errors and fix them.\n",
    ". Raise exceptions when appropriate. This can be helpful for communicating errors to other parts of your code or to the user.\n",
    ". Don't swallow exceptions. This means that you should not ignore exceptions or try to \"fix\" them by continuing to run your code. Swallowing exceptions can lead to errors that are difficult to track down.\n",
    ". Use the finally block to perform cleanup tasks. This will ensure that your code executes the cleanup tasks even if an exception is raised."
   ]
  },
  {
   "cell_type": "code",
   "execution_count": null,
   "id": "ceb3a354",
   "metadata": {},
   "outputs": [],
   "source": []
  },
  {
   "cell_type": "code",
   "execution_count": null,
   "id": "fd3281d7",
   "metadata": {},
   "outputs": [],
   "source": []
  }
 ],
 "metadata": {
  "kernelspec": {
   "display_name": "Python 3 (ipykernel)",
   "language": "python",
   "name": "python3"
  },
  "language_info": {
   "codemirror_mode": {
    "name": "ipython",
    "version": 3
   },
   "file_extension": ".py",
   "mimetype": "text/x-python",
   "name": "python",
   "nbconvert_exporter": "python",
   "pygments_lexer": "ipython3",
   "version": "3.10.9"
  }
 },
 "nbformat": 4,
 "nbformat_minor": 5
}
